{
  "nbformat": 4,
  "nbformat_minor": 0,
  "metadata": {
    "colab": {
      "name": "1197050051_ImamFirdaus_LatihanHuffman.py",
      "provenance": [],
      "authorship_tag": "ABX9TyPNyk/M38Uo++J0yZ/ywaTD",
      "include_colab_link": true
    },
    "kernelspec": {
      "name": "python3",
      "display_name": "Python 3"
    },
    "language_info": {
      "name": "python"
    }
  },
  "cells": [
    {
      "cell_type": "markdown",
      "metadata": {
        "id": "view-in-github",
        "colab_type": "text"
      },
      "source": [
        "<a href=\"https://colab.research.google.com/github/imamfirdaus-if/SistemMultimedia/blob/main/1197050051_ImamFirdaus_LatihanHuffman_py.ipynb\" target=\"_parent\"><img src=\"https://colab.research.google.com/assets/colab-badge.svg\" alt=\"Open In Colab\"/></a>"
      ]
    },
    {
      "cell_type": "markdown",
      "source": [
        "**Algoritma Huffman Coding**\n",
        "<br>Data Test : 1197050051 - Imam Firdaus"
      ],
      "metadata": {
        "id": "pTnH6Y7MU1Xy"
      }
    },
    {
      "cell_type": "code",
      "execution_count": null,
      "metadata": {
        "colab": {
          "base_uri": "https://localhost:8080/"
        },
        "id": "FRpawv7GFvKq",
        "outputId": "8841b8d0-c46d-4f52-ffb3-fe52c97e92fc"
      },
      "outputs": [
        {
          "output_type": "stream",
          "name": "stdout",
          "text": [
            "Imam Firdaus - 1197050051\n",
            "symbols:  dict_keys(['I', 'm', 'a', ' ', 'F', 'i', 'r', 'd', 'u', 's', '-', '1', '9', '7', '0', '5'])\n",
            "probabilities:  dict_values([1, 2, 2, 3, 1, 1, 1, 1, 1, 1, 1, 3, 1, 1, 3, 2])\n",
            "symbols with codes {'u': '00000', 'd': '00001', 'r': '00010', 'i': '00011', 'F': '00100', 'I': '00101', '5': '0011', 'a': '0100', 'm': '0101', '0': '011', '1': '100', ' ': '101', '7': '1100', '9': '1101', '-': '1110', 's': '1111'}\n",
            "Space usage before compression (in bits): 200\n",
            "Space usage after compression (in bits): 97\n",
            "Encoded output 0010101010100010110100100000110001000001010000000111110111101011001001101110001100110110110011100\n",
            "Decoded Output Imam Firdaus - 1197050051\n"
          ]
        }
      ],
      "source": [
        "class Nodes:  \n",
        "    def __init__(self, probability, symbol, left = None, right = None):  \n",
        "        # probability of the symbol  \n",
        "        self.probability = probability  \n",
        "  \n",
        "        # the symbol  \n",
        "        self.symbol = symbol  \n",
        "  \n",
        "        # the left node  \n",
        "        self.left = left  \n",
        "  \n",
        "        # the right node  \n",
        "        self.right = right  \n",
        "  \n",
        "        # the tree direction (0 or 1)  \n",
        "        self.code = ''  \n",
        "  \n",
        "\"\"\" A supporting function in order to calculate the probabilities of symbols in specified data \"\"\"  \n",
        "def CalculateProbability(the_data):  \n",
        "    the_symbols = dict()  \n",
        "    for item in the_data:  \n",
        "        if the_symbols.get(item) == None:  \n",
        "            the_symbols[item] = 1  \n",
        "        else:   \n",
        "            the_symbols[item] += 1       \n",
        "    return the_symbols  \n",
        "  \n",
        "\"\"\" A supporting function in order to print the codes of symbols by travelling a Huffman Tree \"\"\"  \n",
        "the_codes = dict()  \n",
        "  \n",
        "def CalculateCodes(node, value = ''):  \n",
        "    # a huffman code for current node  \n",
        "    newValue = value + str(node.code)  \n",
        "  \n",
        "    if(node.left):  \n",
        "        CalculateCodes(node.left, newValue)  \n",
        "    if(node.right):  \n",
        "        CalculateCodes(node.right, newValue)  \n",
        "  \n",
        "    if(not node.left and not node.right):  \n",
        "        the_codes[node.symbol] = newValue  \n",
        "           \n",
        "    return the_codes  \n",
        "  \n",
        "\"\"\" A supporting function in order to get the encoded result \"\"\"  \n",
        "def OutputEncoded(the_data, coding):  \n",
        "    encodingOutput = []  \n",
        "    for element in the_data:  \n",
        "        # print(coding[element], end = '')  \n",
        "        encodingOutput.append(coding[element])  \n",
        "          \n",
        "    the_string = ''.join([str(item) for item in encodingOutput])      \n",
        "    return the_string  \n",
        "          \n",
        "\"\"\" A supporting function in order to calculate the space difference between compressed and non compressed data\"\"\"      \n",
        "def TotalGain(the_data, coding):  \n",
        "    # total bit space to store the data before compression  \n",
        "    beforeCompression = len(the_data) * 8  \n",
        "    afterCompression = 0  \n",
        "    the_symbols = coding.keys()  \n",
        "    for symbol in the_symbols:  \n",
        "        the_count = the_data.count(symbol)  \n",
        "        # calculating how many bit is required for that symbol in total  \n",
        "        afterCompression += the_count * len(coding[symbol])  \n",
        "    print(\"Space usage before compression (in bits):\", beforeCompression)  \n",
        "    print(\"Space usage after compression (in bits):\",  afterCompression)  \n",
        "  \n",
        "def HuffmanEncoding(the_data):  \n",
        "    symbolWithProbs = CalculateProbability(the_data)  \n",
        "    the_symbols = symbolWithProbs.keys()  \n",
        "    the_probabilities = symbolWithProbs.values()  \n",
        "    print(\"symbols: \", the_symbols)  \n",
        "    print(\"probabilities: \", the_probabilities)  \n",
        "      \n",
        "    the_nodes = []  \n",
        "      \n",
        "    # converting symbols and probabilities into huffman tree nodes  \n",
        "    for symbol in the_symbols:  \n",
        "        the_nodes.append(Nodes(symbolWithProbs.get(symbol), symbol))  \n",
        "      \n",
        "    while len(the_nodes) > 1:  \n",
        "        # sorting all the nodes in ascending order based on their probability  \n",
        "        the_nodes = sorted(the_nodes, key = lambda x: x.probability)  \n",
        "        # for node in nodes:    \n",
        "        #      print(node.symbol, node.prob)  \n",
        "      \n",
        "        # picking two smallest nodes  \n",
        "        right = the_nodes[0]  \n",
        "        left = the_nodes[1]  \n",
        "      \n",
        "        left.code = 0  \n",
        "        right.code = 1  \n",
        "      \n",
        "        # combining the 2 smallest nodes to create new node  \n",
        "        newNode = Nodes(left.probability + right.probability, left.symbol + right.symbol, left, right)  \n",
        "      \n",
        "        the_nodes.remove(left)  \n",
        "        the_nodes.remove(right)  \n",
        "        the_nodes.append(newNode)  \n",
        "              \n",
        "    huffmanEncoding = CalculateCodes(the_nodes[0])  \n",
        "    print(\"symbols with codes\", huffmanEncoding)  \n",
        "    TotalGain(the_data, huffmanEncoding)  \n",
        "    encodedOutput = OutputEncoded(the_data,huffmanEncoding)  \n",
        "    return encodedOutput, the_nodes[0]  \n",
        "   \n",
        "def HuffmanDecoding(encodedData, huffmanTree):  \n",
        "    treeHead = huffmanTree  \n",
        "    decodedOutput = []  \n",
        "    for x in encodedData:  \n",
        "        if x == '1':  \n",
        "            huffmanTree = huffmanTree.right     \n",
        "        elif x == '0':  \n",
        "            huffmanTree = huffmanTree.left  \n",
        "        try:  \n",
        "            if huffmanTree.left.symbol == None and huffmanTree.right.symbol == None:  \n",
        "                pass  \n",
        "        except AttributeError:  \n",
        "            decodedOutput.append(huffmanTree.symbol)  \n",
        "            huffmanTree = treeHead  \n",
        "          \n",
        "    string = ''.join([str(item) for item in decodedOutput])  \n",
        "    return string    \n",
        "  \n",
        "the_data = \"Imam Firdaus - 1197050051\"  \n",
        "print(the_data)  \n",
        "encoding, the_tree = HuffmanEncoding(the_data)  \n",
        "print(\"Encoded output\", encoding)  \n",
        "print(\"Decoded Output\", HuffmanDecoding(encoding, the_tree))"
      ]
    }
  ]
}